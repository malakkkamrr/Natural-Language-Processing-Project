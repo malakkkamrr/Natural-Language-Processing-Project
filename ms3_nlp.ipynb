{
  "metadata": {
    "kernelspec": {
      "language": "python",
      "display_name": "Python 3",
      "name": "python3"
    },
    "language_info": {
      "name": "python",
      "version": "3.10.13",
      "mimetype": "text/x-python",
      "codemirror_mode": {
        "name": "ipython",
        "version": 3
      },
      "pygments_lexer": "ipython3",
      "nbconvert_exporter": "python",
      "file_extension": ".py"
    },
    "kaggle": {
      "accelerator": "nvidiaTeslaT4",
      "dataSources": [
        {
          "sourceId": 8433641,
          "sourceType": "datasetVersion",
          "datasetId": 5022949
        }
      ],
      "dockerImageVersionId": 30699,
      "isInternetEnabled": true,
      "language": "python",
      "sourceType": "notebook",
      "isGpuEnabled": true
    },
    "colab": {
      "provenance": [],
      "include_colab_link": true
    }
  },
  "nbformat_minor": 0,
  "nbformat": 4,
  "cells": [
    {
      "cell_type": "markdown",
      "metadata": {
        "id": "view-in-github",
        "colab_type": "text"
      },
      "source": [
        "<a href=\"https://colab.research.google.com/github/malakkkamrr/Natural-Language-Processing-Project/blob/main/ms3_nlp.ipynb\" target=\"_parent\"><img src=\"https://colab.research.google.com/assets/colab-badge.svg\" alt=\"Open In Colab\"/></a>"
      ]
    },
    {
      "cell_type": "code",
      "source": [
        "import torch\n",
        "from transformers import BertTokenizer, BertModel, BertConfig\n",
        "from torch.utils.data import DataLoader, Dataset\n",
        "import numpy as np\n",
        "from sklearn.model_selection import train_test_split\n",
        "from sklearn.metrics import mean_squared_error\n",
        "from tqdm import tqdm\n",
        "import pandas as pd"
      ],
      "metadata": {
        "_uuid": "8f2839f25d086af736a60e9eeb907d3b93b6e0e5",
        "_cell_guid": "b1076dfc-b9ad-4769-8c92-a6c4dae69d19",
        "execution": {
          "iopub.status.busy": "2024-05-16T18:07:44.212138Z",
          "iopub.execute_input": "2024-05-16T18:07:44.212560Z",
          "iopub.status.idle": "2024-05-16T18:07:53.107216Z",
          "shell.execute_reply.started": "2024-05-16T18:07:44.212531Z",
          "shell.execute_reply": "2024-05-16T18:07:53.106171Z"
        },
        "trusted": true,
        "id": "GJfFX2lRLc1y"
      },
      "execution_count": null,
      "outputs": []
    },
    {
      "cell_type": "code",
      "source": [
        "import gc\n",
        "\n",
        "def report_gpu():\n",
        "    print(torch.cuda.list_gpu_processes())\n",
        "    gc.collect()\n",
        "    torch.cuda.empty_cache()\n",
        "\n",
        "report_gpu()\n"
      ],
      "metadata": {
        "execution": {
          "iopub.status.busy": "2024-05-16T18:08:01.617027Z",
          "iopub.execute_input": "2024-05-16T18:08:01.617645Z",
          "iopub.status.idle": "2024-05-16T18:08:01.884844Z",
          "shell.execute_reply.started": "2024-05-16T18:08:01.617610Z",
          "shell.execute_reply": "2024-05-16T18:08:01.883836Z"
        },
        "trusted": true,
        "id": "1BsUW8k2Lc1z",
        "outputId": "8e0e619a-354f-40e1-96e0-da804326c4db"
      },
      "execution_count": null,
      "outputs": [
        {
          "name": "stdout",
          "text": "GPU:0\nno processes are running\n",
          "output_type": "stream"
        }
      ]
    },
    {
      "cell_type": "code",
      "source": [
        "class ProductDataset(Dataset):\n",
        "    def __init__(self, descriptions, brands, prices, tokenizer, max_length):\n",
        "        self.descriptions = descriptions\n",
        "        self.brands = brands\n",
        "        self.prices = prices\n",
        "        self.tokenizer = tokenizer\n",
        "        self.max_length = max_length\n",
        "\n",
        "    def __len__(self):\n",
        "        return len(self.descriptions)\n",
        "\n",
        "    def __getitem__(self, idx):\n",
        "        description = self.descriptions[idx]\n",
        "        brand = self.brands[idx]\n",
        "        price = self.prices[idx]\n",
        "        input_text = f\"{brand} {description}\"\n",
        "        encoding = self.tokenizer(input_text,\n",
        "                                   add_special_tokens=True,\n",
        "                                   truncation=True,\n",
        "                                   max_length=self.max_length,\n",
        "                                   padding='max_length',\n",
        "                                   return_tensors='pt')\n",
        "        return {\n",
        "            'input_ids': encoding['input_ids'].flatten(),\n",
        "            'attention_mask': encoding['attention_mask'].flatten(),\n",
        "            'price': torch.tensor(price, dtype=torch.float)\n",
        "        }\n"
      ],
      "metadata": {
        "execution": {
          "iopub.status.busy": "2024-05-16T18:08:09.323268Z",
          "iopub.execute_input": "2024-05-16T18:08:09.323775Z",
          "iopub.status.idle": "2024-05-16T18:08:09.335520Z",
          "shell.execute_reply.started": "2024-05-16T18:08:09.323735Z",
          "shell.execute_reply": "2024-05-16T18:08:09.334383Z"
        },
        "trusted": true,
        "id": "OuV6DhzzLc10"
      },
      "execution_count": null,
      "outputs": []
    },
    {
      "cell_type": "code",
      "source": [
        "class BertForRegression(torch.nn.Module):\n",
        "    def __init__(self, config):\n",
        "        super(BertForRegression, self).__init__()\n",
        "        self.bert = BertModel(config)\n",
        "        self.dropout = torch.nn.Dropout(config.hidden_dropout_prob)\n",
        "        self.linear = torch.nn.Linear(config.hidden_size, 1)\n",
        "\n",
        "    def forward(self, input_ids, attention_mask):\n",
        "        outputs = self.bert(input_ids=input_ids, attention_mask=attention_mask)\n",
        "        pooled_output = outputs.pooler_output\n",
        "        pooled_output = self.dropout(pooled_output)\n",
        "        price_prediction = self.linear(pooled_output)\n",
        "        return price_prediction\n"
      ],
      "metadata": {
        "execution": {
          "iopub.status.busy": "2024-05-16T18:08:20.669225Z",
          "iopub.execute_input": "2024-05-16T18:08:20.669950Z",
          "iopub.status.idle": "2024-05-16T18:08:20.677149Z",
          "shell.execute_reply.started": "2024-05-16T18:08:20.669906Z",
          "shell.execute_reply": "2024-05-16T18:08:20.676030Z"
        },
        "trusted": true,
        "id": "y-F1QVGZLc11"
      },
      "execution_count": null,
      "outputs": []
    },
    {
      "cell_type": "code",
      "source": [
        "tokenizer = BertTokenizer.from_pretrained('bert-base-uncased')\n",
        "config = BertConfig.from_pretrained('bert-base-uncased')\n",
        "model = BertForRegression(config)\n"
      ],
      "metadata": {
        "execution": {
          "iopub.status.busy": "2024-05-16T18:08:43.371338Z",
          "iopub.execute_input": "2024-05-16T18:08:43.371692Z",
          "iopub.status.idle": "2024-05-16T18:08:46.481553Z",
          "shell.execute_reply.started": "2024-05-16T18:08:43.371664Z",
          "shell.execute_reply": "2024-05-16T18:08:46.480578Z"
        },
        "trusted": true,
        "colab": {
          "referenced_widgets": [
            "64a58774ae314657a4d09cf51a004867",
            "77ae3c9c82744c1c9c2846f8e308d7b3",
            "d63d97648e6f4b11895acc995b1615e9",
            "35b2378146bf4aadac6e75be75824045"
          ]
        },
        "id": "bpfh1bRrLc11",
        "outputId": "9475e7e5-0368-40c4-b9fe-5ab3fa5c4dd4"
      },
      "execution_count": null,
      "outputs": [
        {
          "output_type": "display_data",
          "data": {
            "text/plain": "tokenizer_config.json:   0%|          | 0.00/48.0 [00:00<?, ?B/s]",
            "application/vnd.jupyter.widget-view+json": {
              "version_major": 2,
              "version_minor": 0,
              "model_id": "64a58774ae314657a4d09cf51a004867"
            }
          },
          "metadata": {}
        },
        {
          "output_type": "display_data",
          "data": {
            "text/plain": "vocab.txt:   0%|          | 0.00/232k [00:00<?, ?B/s]",
            "application/vnd.jupyter.widget-view+json": {
              "version_major": 2,
              "version_minor": 0,
              "model_id": "77ae3c9c82744c1c9c2846f8e308d7b3"
            }
          },
          "metadata": {}
        },
        {
          "output_type": "display_data",
          "data": {
            "text/plain": "tokenizer.json:   0%|          | 0.00/466k [00:00<?, ?B/s]",
            "application/vnd.jupyter.widget-view+json": {
              "version_major": 2,
              "version_minor": 0,
              "model_id": "d63d97648e6f4b11895acc995b1615e9"
            }
          },
          "metadata": {}
        },
        {
          "output_type": "display_data",
          "data": {
            "text/plain": "config.json:   0%|          | 0.00/570 [00:00<?, ?B/s]",
            "application/vnd.jupyter.widget-view+json": {
              "version_major": 2,
              "version_minor": 0,
              "model_id": "35b2378146bf4aadac6e75be75824045"
            }
          },
          "metadata": {}
        }
      ]
    },
    {
      "cell_type": "code",
      "source": [
        "MAX_LENGTH = 300\n",
        "BATCH_SIZE = 16\n",
        "EPOCHS = 5\n",
        "LEARNING_RATE = 2e-5\n"
      ],
      "metadata": {
        "execution": {
          "iopub.status.busy": "2024-05-16T18:21:26.908250Z",
          "iopub.execute_input": "2024-05-16T18:21:26.908951Z",
          "iopub.status.idle": "2024-05-16T18:21:26.913254Z",
          "shell.execute_reply.started": "2024-05-16T18:21:26.908922Z",
          "shell.execute_reply": "2024-05-16T18:21:26.912281Z"
        },
        "trusted": true,
        "id": "Ks2n9qa-Lc11"
      },
      "execution_count": null,
      "outputs": []
    },
    {
      "cell_type": "code",
      "source": [
        "file_path = \"/kaggle/input/amazon-dataset/final_dataset (2) (2).csv\"\n",
        "df = pd.read_csv(file_path)\n",
        "\n",
        "train_data, val_test_data = train_test_split(df, test_size=0.2, random_state=42)\n",
        "val_data, test_data = train_test_split(val_test_data, test_size=0.5, random_state=42)\n",
        "\n",
        "train_descriptions = train_data['description'].tolist()\n",
        "train_brands = train_data['brand'].tolist()\n",
        "train_prices = train_data['price/value'].tolist()\n",
        "\n",
        "val_descriptions = val_data['description'].tolist()\n",
        "val_brands = val_data['brand'].tolist()\n",
        "val_prices = val_data['price/value'].tolist()\n",
        "\n",
        "test_descriptions = test_data['description'].tolist()\n",
        "test_brands = test_data['brand'].tolist()\n",
        "test_prices = test_data['price/value'].tolist()\n"
      ],
      "metadata": {
        "execution": {
          "iopub.status.busy": "2024-05-16T18:08:56.203140Z",
          "iopub.execute_input": "2024-05-16T18:08:56.203527Z",
          "iopub.status.idle": "2024-05-16T18:08:56.247015Z",
          "shell.execute_reply.started": "2024-05-16T18:08:56.203498Z",
          "shell.execute_reply": "2024-05-16T18:08:56.246172Z"
        },
        "trusted": true,
        "id": "DMQVkyFWLc12"
      },
      "execution_count": null,
      "outputs": []
    },
    {
      "cell_type": "code",
      "source": [
        "train_dataset = ProductDataset(train_descriptions, train_brands, train_prices, tokenizer, MAX_LENGTH)\n",
        "val_dataset = ProductDataset(val_descriptions, val_brands, val_prices, tokenizer, MAX_LENGTH)\n",
        "test_dataset = ProductDataset(test_descriptions, test_brands, test_prices, tokenizer, MAX_LENGTH)\n",
        "\n",
        "train_loader = DataLoader(train_dataset, batch_size=BATCH_SIZE, shuffle=True)\n",
        "val_loader = DataLoader(val_dataset, batch_size=BATCH_SIZE, shuffle=False)\n",
        "test_loader = DataLoader(test_dataset, batch_size=BATCH_SIZE, shuffle=False)\n"
      ],
      "metadata": {
        "execution": {
          "iopub.status.busy": "2024-05-16T18:09:12.353023Z",
          "iopub.execute_input": "2024-05-16T18:09:12.353702Z",
          "iopub.status.idle": "2024-05-16T18:09:12.360250Z",
          "shell.execute_reply.started": "2024-05-16T18:09:12.353665Z",
          "shell.execute_reply": "2024-05-16T18:09:12.359250Z"
        },
        "trusted": true,
        "id": "UBoDofiPLc12"
      },
      "execution_count": null,
      "outputs": []
    },
    {
      "cell_type": "code",
      "source": [
        "criterion = torch.nn.L1Loss()\n",
        "optimizer = torch.optim.AdamW(model.parameters(), lr=LEARNING_RATE)"
      ],
      "metadata": {
        "execution": {
          "iopub.status.busy": "2024-05-16T18:09:16.696407Z",
          "iopub.execute_input": "2024-05-16T18:09:16.697371Z",
          "iopub.status.idle": "2024-05-16T18:09:16.703986Z",
          "shell.execute_reply.started": "2024-05-16T18:09:16.697327Z",
          "shell.execute_reply": "2024-05-16T18:09:16.703115Z"
        },
        "trusted": true,
        "id": "ovwo8rjaLc12"
      },
      "execution_count": null,
      "outputs": []
    },
    {
      "cell_type": "code",
      "source": [
        "for epoch in range(EPOCHS):\n",
        "    model.train()\n",
        "    total_loss = 0\n",
        "    for batch in tqdm(train_loader, desc=f'Epoch {epoch + 1}'):\n",
        "        optimizer.zero_grad()\n",
        "        input_ids = batch['input_ids']\n",
        "        attention_mask = batch['attention_mask']\n",
        "        labels = batch['price'].unsqueeze(1)\n",
        "        outputs = model(input_ids, attention_mask)\n",
        "        loss = criterion(outputs, labels)\n",
        "        total_loss += loss.item()\n",
        "        loss.backward()\n",
        "        optimizer.step()\n",
        "    print(f'Training Loss: {total_loss / len(train_loader)}')\n",
        "\n",
        "    model.eval()\n",
        "    val_losses = []\n",
        "    with torch.no_grad():\n",
        "        for batch in val_loader:\n",
        "            input_ids = batch['input_ids']\n",
        "            attention_mask = batch['attention_mask']\n",
        "            labels = batch['price'].unsqueeze(1)\n",
        "            outputs = model(input_ids, attention_mask)\n",
        "            val_loss = criterion(outputs, labels)\n",
        "            val_losses.append(val_loss.item())\n",
        "    print(f'Validation Loss: {np.mean(val_losses)}')\n"
      ],
      "metadata": {
        "execution": {
          "iopub.status.busy": "2024-05-16T18:21:33.401372Z",
          "iopub.execute_input": "2024-05-16T18:21:33.402206Z",
          "iopub.status.idle": "2024-05-16T18:55:19.399066Z",
          "shell.execute_reply.started": "2024-05-16T18:21:33.402173Z",
          "shell.execute_reply": "2024-05-16T18:55:19.397933Z"
        },
        "trusted": true,
        "id": "bppdr4AULc13",
        "outputId": "44dca78f-033c-4b13-bd2d-f140e39ee079"
      },
      "execution_count": null,
      "outputs": [
        {
          "name": "stderr",
          "text": "Epoch 1: 100%|██████████| 25/25 [06:37<00:00, 15.90s/it]\n",
          "output_type": "stream"
        },
        {
          "name": "stdout",
          "text": "Training Loss: 29.993340301513673\nValidation Loss: 21.127305030822754\n",
          "output_type": "stream"
        },
        {
          "name": "stderr",
          "text": "Epoch 2: 100%|██████████| 25/25 [06:26<00:00, 15.48s/it]\n",
          "output_type": "stream"
        },
        {
          "name": "stdout",
          "text": "Training Loss: 29.32728527069092\nValidation Loss: 20.626073837280273\n",
          "output_type": "stream"
        },
        {
          "name": "stderr",
          "text": "Epoch 3: 100%|██████████| 25/25 [06:26<00:00, 15.44s/it]\n",
          "output_type": "stream"
        },
        {
          "name": "stdout",
          "text": "Training Loss: 28.851836318969728\nValidation Loss: 20.22636890411377\n",
          "output_type": "stream"
        },
        {
          "name": "stderr",
          "text": "Epoch 4: 100%|██████████| 25/25 [06:29<00:00, 15.57s/it]\n",
          "output_type": "stream"
        },
        {
          "name": "stdout",
          "text": "Training Loss: 28.487459297180177\nValidation Loss: 19.919114589691162\n",
          "output_type": "stream"
        },
        {
          "name": "stderr",
          "text": "Epoch 5: 100%|██████████| 25/25 [06:30<00:00, 15.63s/it]\n",
          "output_type": "stream"
        },
        {
          "name": "stdout",
          "text": "Training Loss: 28.183648376464845\nValidation Loss: 19.67151379585266\n",
          "output_type": "stream"
        }
      ]
    },
    {
      "cell_type": "code",
      "source": [
        "model.eval()\n",
        "test_losses = []\n",
        "predicted_prices = []\n",
        "with torch.no_grad():\n",
        "    for batch in test_loader:\n",
        "        input_ids = batch['input_ids']\n",
        "        attention_mask = batch['attention_mask']\n",
        "        labels = batch['price'].unsqueeze(1)\n",
        "        outputs = model(input_ids, attention_mask)\n",
        "        test_loss = criterion(outputs, labels)\n",
        "        test_losses.append(test_loss.item())\n",
        "        predicted_prices.extend(outputs.numpy().flatten())\n",
        "\n",
        "mse = mean_squared_error(test_prices, predicted_prices)\n",
        "print(f'Test Mean Squared Error: {mse}')"
      ],
      "metadata": {
        "execution": {
          "iopub.status.busy": "2024-05-16T18:56:09.673552Z",
          "iopub.execute_input": "2024-05-16T18:56:09.674492Z",
          "iopub.status.idle": "2024-05-16T18:56:24.959093Z",
          "shell.execute_reply.started": "2024-05-16T18:56:09.674460Z",
          "shell.execute_reply": "2024-05-16T18:56:24.957865Z"
        },
        "trusted": true,
        "id": "lDB_cWsDLc13",
        "outputId": "da95f294-d2ad-454c-f6d6-41e68590e1a1"
      },
      "execution_count": null,
      "outputs": [
        {
          "name": "stdout",
          "text": "Test Mean Squared Error: 3668.8944933349335\n",
          "output_type": "stream"
        }
      ]
    },
    {
      "cell_type": "code",
      "source": [
        "input_description = \"USB Docking Station, JESWO USB 3.0 Laptop Docking Station Dual Monitor (Dual Video HDMI & VGA, Gigabit Ethernet, Audio, and More USB Ports)-Grey\"\n",
        "input_brand = \"JESWO\"\n",
        "input_text = f\"{input_brand} {input_description}\"\n",
        "\n",
        "input_encoding = tokenizer(input_text,\n",
        "                           truncation=True,\n",
        "                           padding='max_length',\n",
        "                           max_length=MAX_LENGTH,\n",
        "                           return_tensors='pt')\n",
        "input_ids = input_encoding['input_ids']\n",
        "attention_mask = input_encoding['attention_mask']\n",
        "\n",
        "with torch.no_grad():\n",
        "    output_price = model(input_ids, attention_mask)\n",
        "\n",
        "predicted_price = output_price.item()\n",
        "\n",
        "print(\"Predicted Price:\", predicted_price)"
      ],
      "metadata": {
        "execution": {
          "iopub.status.busy": "2024-05-16T19:02:09.232024Z",
          "iopub.execute_input": "2024-05-16T19:02:09.233123Z",
          "iopub.status.idle": "2024-05-16T19:02:09.607292Z",
          "shell.execute_reply.started": "2024-05-16T19:02:09.233088Z",
          "shell.execute_reply": "2024-05-16T19:02:09.606122Z"
        },
        "trusted": true,
        "id": "eY6a-5luLc13",
        "outputId": "7df3705d-6d9b-457c-acfc-3c8d05298486"
      },
      "execution_count": null,
      "outputs": [
        {
          "name": "stdout",
          "text": "Predicted Price: 14.820196151733398\n",
          "output_type": "stream"
        }
      ]
    }
  ]
}